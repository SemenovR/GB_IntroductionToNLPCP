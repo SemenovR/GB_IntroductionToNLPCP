{
 "cells": [
  {
   "cell_type": "markdown",
   "metadata": {},
   "source": [
    "# Курсовая работа \"Введение в обработку естественного языка\""
   ]
  },
  {
   "cell_type": "markdown",
   "metadata": {},
   "source": [
    "## Часть 2. Чат-бот"
   ]
  },
  {
   "cell_type": "code",
   "execution_count": 35,
   "metadata": {},
   "outputs": [],
   "source": [
    "import logging\n",
    "import string\n",
    "import annoy\n",
    "import pickle\n",
    "import numpy as np\n",
    "import warnings\n",
    "import re\n",
    "import dialogflow\n",
    "import os\n",
    "\n",
    "from functools import lru_cache\n",
    "from gensim.models import FastText\n",
    "from stop_words import get_stop_words\n",
    "from pymorphy2 import MorphAnalyzer\n",
    "from telegram import Update\n",
    "from telegram.ext import Updater, CommandHandler, MessageHandler, Filters, CallbackContext\n",
    "from sklearn.feature_extraction.text import CountVectorizer, TfidfVectorizer\n",
    "from sklearn.linear_model import LogisticRegression\n",
    "from google.api_core.exceptions import InvalidArgument"
   ]
  },
  {
   "cell_type": "code",
   "execution_count": 2,
   "metadata": {},
   "outputs": [],
   "source": [
    "warnings.filterwarnings(\"ignore\", category=DeprecationWarning)"
   ]
  },
  {
   "cell_type": "markdown",
   "metadata": {},
   "source": [
    "##### Часть 2.1. Загрузка моделей"
   ]
  },
  {
   "cell_type": "code",
   "execution_count": 3,
   "metadata": {},
   "outputs": [],
   "source": [
    "# Путь к моделям\n",
    "PATH_MODEL = 'D:\\\\GB_DB\\\\models\\\\'\n",
    "# Размер эмбеддинга\n",
    "SIZE_EMB = 200"
   ]
  },
  {
   "cell_type": "code",
   "execution_count": 4,
   "metadata": {},
   "outputs": [],
   "source": [
    "morpher = MorphAnalyzer()\n",
    "sw = set(get_stop_words(\"ru\"))\n",
    "exclude = set(string.punctuation)"
   ]
  },
  {
   "cell_type": "code",
   "execution_count": 5,
   "metadata": {},
   "outputs": [],
   "source": [
    "with open(f'{PATH_MODEL}idfs.pkl', 'rb') as f:\n",
    "    idfs = pickle.load(f)"
   ]
  },
  {
   "cell_type": "code",
   "execution_count": 6,
   "metadata": {},
   "outputs": [],
   "source": [
    "with open(f'{PATH_MODEL}midf.pkl', 'rb') as f:\n",
    "    midf = pickle.load(f)"
   ]
  },
  {
   "cell_type": "code",
   "execution_count": 7,
   "metadata": {},
   "outputs": [],
   "source": [
    "modelFT = FastText.load(f'{PATH_MODEL}modelFT')"
   ]
  },
  {
   "cell_type": "code",
   "execution_count": 8,
   "metadata": {},
   "outputs": [
    {
     "data": {
      "text/plain": [
       "True"
      ]
     },
     "execution_count": 8,
     "metadata": {},
     "output_type": "execute_result"
    }
   ],
   "source": [
    "ft_index = annoy.AnnoyIndex(SIZE_EMB, 'angular')\n",
    "ft_index.load(f'{PATH_MODEL}ft_index') "
   ]
  },
  {
   "cell_type": "code",
   "execution_count": 9,
   "metadata": {},
   "outputs": [],
   "source": [
    "with open(f'{PATH_MODEL}index_map.pkl', 'rb') as f:\n",
    "    index_map = pickle.load(f)"
   ]
  },
  {
   "cell_type": "code",
   "execution_count": 10,
   "metadata": {},
   "outputs": [],
   "source": [
    "vectorizer = CountVectorizer(ngram_range=(1, 2))\n",
    "with open(f'{PATH_MODEL}vectorizer.pkl', 'rb') as f:\n",
    "    vectorizer = pickle.load(f)"
   ]
  },
  {
   "cell_type": "code",
   "execution_count": 11,
   "metadata": {},
   "outputs": [],
   "source": [
    "lr = LogisticRegression()\n",
    "with open(f'{PATH_MODEL}lr.pkl', 'rb') as f:\n",
    "    lr = pickle.load(f)"
   ]
  },
  {
   "cell_type": "code",
   "execution_count": 12,
   "metadata": {},
   "outputs": [],
   "source": [
    "with open(f'{PATH_MODEL}idfs_p.pkl', 'rb') as f:\n",
    "    idfs_p = pickle.load(f)"
   ]
  },
  {
   "cell_type": "code",
   "execution_count": 13,
   "metadata": {},
   "outputs": [],
   "source": [
    "with open(f'{PATH_MODEL}midf_p.pkl', 'rb') as f:\n",
    "    midf_p = pickle.load(f)"
   ]
  },
  {
   "cell_type": "code",
   "execution_count": 14,
   "metadata": {},
   "outputs": [
    {
     "data": {
      "text/plain": [
       "True"
      ]
     },
     "execution_count": 14,
     "metadata": {},
     "output_type": "execute_result"
    }
   ],
   "source": [
    "ft_index_shop = annoy.AnnoyIndex(SIZE_EMB, 'angular')\n",
    "ft_index_shop.load(f'{PATH_MODEL}ft_index_shop') "
   ]
  },
  {
   "cell_type": "code",
   "execution_count": 15,
   "metadata": {},
   "outputs": [],
   "source": [
    "with open(f'{PATH_MODEL}index_map_shop.pkl', 'rb') as f:\n",
    "    index_map_shop = pickle.load(f)"
   ]
  },
  {
   "cell_type": "markdown",
   "metadata": {},
   "source": [
    "Функции подготовки текста"
   ]
  },
  {
   "cell_type": "code",
   "execution_count": 16,
   "metadata": {},
   "outputs": [],
   "source": [
    "@lru_cache(maxsize=None)\n",
    "def parse_morpher(text):\n",
    "    return morpher.parse(text)[0].normal_form"
   ]
  },
  {
   "cell_type": "code",
   "execution_count": 17,
   "metadata": {},
   "outputs": [],
   "source": [
    "def preprocess_txt(line):\n",
    "    spls = \"\".join(i for i in line.strip() if i not in exclude).split()\n",
    "    spls = [parse_morpher(re.sub(r'\\<[^>]*\\>', '', i).lower()) for i in spls]\n",
    "    spls = [i for i in spls if i not in sw and i != \"\"]\n",
    "    return spls"
   ]
  },
  {
   "cell_type": "code",
   "execution_count": 18,
   "metadata": {},
   "outputs": [],
   "source": [
    "def embed_txt(txt, idfs, model, midf):\n",
    "    n_ft = 0\n",
    "    vector_ft = np.zeros(SIZE_EMB)\n",
    "    for word in txt:\n",
    "        if word in model:\n",
    "            vector_ft += model[word]\n",
    "            n_ft += idfs.get(word, midf)\n",
    "    if n_ft > 0:\n",
    "        vector_ft = vector_ft / n_ft\n",
    "    return vector_ft"
   ]
  },
  {
   "cell_type": "markdown",
   "metadata": {},
   "source": [
    "##### Часть 2.2. Модель чат-бота"
   ]
  },
  {
   "cell_type": "code",
   "execution_count": null,
   "metadata": {},
   "outputs": [],
   "source": [
    "def startHandler(update: Update, context: CallbackContext) -> None:\n",
    "    update.message.reply_text('Доброго времени суток!')\n",
    "\n",
    "    \n",
    "def dialogFlow(text):\n",
    "    # Если ни продуктовая, ни разговорная мдель не нашли подходящего ответа, то воспользуемся DialogFlow от Google\n",
    "    session_client = dialogflow.SessionsClient()\n",
    "    session = session_client.session_path(DIALOGFLOW_PROJECT_ID, SESSION_ID)    \n",
    "    text_input = dialogflow.types.TextInput(text=text, language_code=DIALOGFLOW_LANGUAGE_CODE)\n",
    "    query_input = dialogflow.types.QueryInput(text=text_input)\n",
    "    try:\n",
    "        response = session_client.detect_intent(session=session, query_input=query_input)\n",
    "        res_text = response.query_result.fulfillment_text\n",
    "    except InvalidArgument:\n",
    "        res_text = 'Не понимаю.'\n",
    "    return res_text\n",
    "    \n",
    "    \n",
    "def messageHandler(update: Update, context: CallbackContext) -> None:\n",
    "    input_txt = preprocess_txt(update.message.text)\n",
    "    # Сначала определим является ли запрос продуктовым\n",
    "    vect = vectorizer.transform([\" \".join(input_txt)])\n",
    "    prediction = lr.predict(vect)\n",
    "    \n",
    "    if prediction[0] == 1:\n",
    "        # Если запрос продуктовый, то найдём 3 самых подходящих товара\n",
    "        find = False\n",
    "        vect_ft = embed_txt(input_txt, idfs_p, modelFT, midf_p)\n",
    "        ft_index_shop_val, distances_shop = ft_index_shop.get_nns_by_vector(vect_ft, 3, include_distances=True)\n",
    "        for i, item in enumerate(ft_index_shop_val):\n",
    "            if distances_shop[i] <= 0.3:\n",
    "                title, image = index_map_shop[item]\n",
    "                update.message.reply_text(\"title: {} image: {}\".format(title, image))\n",
    "                find = True\n",
    "        if find == False:\n",
    "            update.message.reply_text(dialogFlow(update.message.text))\n",
    "    else:\n",
    "        # Если запрос разговорный, то найдём ответ\n",
    "        vect_ft = embed_txt(input_txt, idfs, modelFT, midf)\n",
    "        ft_index_val, distances = ft_index.get_nns_by_vector(vect_ft, 1, include_distances=True)\n",
    "        if distances[0] <= 0.3:\n",
    "            update.message.reply_text(index_map[ft_index_val[0]])\n",
    "        else:\n",
    "            update.message.reply_text(dialogFlow(update.message.text))\n",
    "            \n",
    "logging.basicConfig(format='%(asctime)s - %(name)s - %(levelname)s - %(message)s', level=logging.INFO)\n",
    "logger = logging.getLogger(__name__)\n",
    "\n",
    "updater = Updater(input('Token:'), use_context=True)\n",
    "\n",
    "# DialogFlow\n",
    "os.environ[\"GOOGLE_APPLICATION_CREDENTIALS\"] = 'gbcpnlp-skdy-d17e062507d2.json'\n",
    "DIALOGFLOW_PROJECT_ID = 'gbcpnlp-skdy' #PROJECT ID из DialogFlow \n",
    "DIALOGFLOW_LANGUAGE_CODE = 'ru' # язык\n",
    "SESSION_ID = 'GBCPNLP_bot'  # ID бота из телеграма\n",
    "\n",
    "dispatcher = updater.dispatcher\n",
    "dispatcher.add_handler(CommandHandler(\"start\", startHandler))\n",
    "dispatcher.add_handler(MessageHandler(Filters.text & ~Filters.command, messageHandler))\n",
    "\n",
    "updater.start_polling()\n",
    "updater.idle()"
   ]
  },
  {
   "cell_type": "code",
   "execution_count": null,
   "metadata": {},
   "outputs": [],
   "source": []
  }
 ],
 "metadata": {
  "kernelspec": {
   "display_name": "Python 3",
   "language": "python",
   "name": "python3"
  },
  "language_info": {
   "codemirror_mode": {
    "name": "ipython",
    "version": 3
   },
   "file_extension": ".py",
   "mimetype": "text/x-python",
   "name": "python",
   "nbconvert_exporter": "python",
   "pygments_lexer": "ipython3",
   "version": "3.7.7"
  }
 },
 "nbformat": 4,
 "nbformat_minor": 4
}
